{
 "cells": [
  {
   "cell_type": "code",
   "execution_count": null,
   "id": "7dc87633-bf9f-4901-b114-7f9aa9766a04",
   "metadata": {},
   "outputs": [],
   "source": [
    "# XG Boost - structured learning - gradient boosting\n",
    "params = dict()\n",
    "params[\"device\"] = \"cuda\"\n",
    "params[\"tree_method\"] = \"hist\"\n",
    "\n",
    "#Xy = xgboost.QuantileDMatrix(X, y)\n",
    "#xgboost.train(params, Xy)"
   ]
  },
  {
   "cell_type": "code",
   "execution_count": null,
   "id": "99d0c5c7-9930-491a-8dee-0fcf9f9669c8",
   "metadata": {},
   "outputs": [],
   "source": [
    "from sklearn.datasets import load_iris\n",
    "iris = load_iris()\n",
    "X = iris['data']\n",
    "y = iris['target']"
   ]
  },
  {
   "cell_type": "code",
   "execution_count": null,
   "id": "c35f531f-a3fc-4035-9f40-b92ddb01c5f2",
   "metadata": {},
   "outputs": [],
   "source": [
    "from sklearn.model_selection import train_test_split\n",
    "X_train, X_test, y_train, y_test = train_test_split(X, y, test_size=0.2)"
   ]
  },
  {
   "cell_type": "code",
   "execution_count": null,
   "id": "afe9fd6b-2677-46fc-b645-9a8d60f78779",
   "metadata": {},
   "outputs": [],
   "source": [
    "from xgboost import XGBClassifier\n",
    "model = XGBClassifier(**params)\n",
    "model.fit(X_train, y_train)\n",
    "booster = model.get_booster()\n",
    "y_pred = booster.inplace_predict(X_test)"
   ]
  },
  {
   "cell_type": "code",
   "execution_count": null,
   "id": "9fdc8f2a-2bea-42f4-9266-eba6a104264e",
   "metadata": {},
   "outputs": [],
   "source": [
    "y_pred = booster.inplace_predict(X_test)\n",
    "predictions = [round(prediction) for prediction in y_pred]"
   ]
  },
  {
   "cell_type": "code",
   "execution_count": null,
   "id": "cac8999a-6b4e-4762-83b8-f7f6e6aaa6de",
   "metadata": {},
   "outputs": [],
   "source": [
    "print(y_pred)"
   ]
  },
  {
   "cell_type": "code",
   "execution_count": null,
   "id": "f483058e-b012-480b-98c7-87d1bac7bb65",
   "metadata": {},
   "outputs": [],
   "source": [
    "from sklearn.metrics import accuracy_score\n",
    "accuracy = accuracy_score(y_test, y_pred)\n",
    "print(\"Accuracy: %.2f%%\" % (accuracy * 100))"
   ]
  },
  {
   "cell_type": "code",
   "execution_count": 2,
   "id": "544f6f04-0dba-427b-a963-e766145b4c63",
   "metadata": {},
   "outputs": [
    {
     "name": "stdout",
     "output_type": "stream",
     "text": [
      "Predictions: [1 0 2 1 1 0 1 2 1 1 2 0 0 0 0 1 2 1 1 2 0 2 0 2 2 2 2 2 0 0]\n",
      "Accuracy: 100.00%\n"
     ]
    }
   ],
   "source": [
    "# Import required libraries\n",
    "import numpy as np\n",
    "import xgboost as xgb  # Ensure this import is added\n",
    "from sklearn.datasets import load_iris\n",
    "from sklearn.model_selection import train_test_split\n",
    "from sklearn.metrics import accuracy_score\n",
    "from xgboost import XGBClassifier\n",
    "\n",
    "# Define parameters for GPU usage\n",
    "params = {\n",
    "    \"device\": \"cuda\",  # Use GPU\n",
    "    \"tree_method\": \"hist\",  # Use histogram method for GPU\n",
    "}\n",
    "\n",
    "# Load the iris dataset\n",
    "iris = load_iris()\n",
    "X = iris['data']\n",
    "y = iris['target']\n",
    "\n",
    "# Split data into training and test sets\n",
    "X_train, X_test, y_train, y_test = train_test_split(X, y, test_size=0.2, random_state=42)\n",
    "\n",
    "# Initialize XGBClassifier with GPU parameters\n",
    "model = XGBClassifier(**params)\n",
    "\n",
    "# Fit the model\n",
    "model.fit(X_train, y_train)\n",
    "\n",
    "# Get the booster (underlying XGBoost model)\n",
    "booster = model.get_booster()\n",
    "\n",
    "# Convert test data into DMatrix (GPU-compatible format)\n",
    "dtest = xgb.DMatrix(X_test)\n",
    "\n",
    "# Predict using the booster (this will use GPU)\n",
    "y_pred = booster.predict(dtest)\n",
    "\n",
    "# Get class labels (for multi-class classification, use np.argmax to get the class with highest probability)\n",
    "predictions = np.argmax(y_pred, axis=1)\n",
    "\n",
    "# Print the predicted class labels\n",
    "print(\"Predictions:\", predictions)\n",
    "\n",
    "# Calculate accuracy score\n",
    "accuracy = accuracy_score(y_test, predictions)\n",
    "print(\"Accuracy: %.2f%%\" % (accuracy * 100))"
   ]
  },
  {
   "cell_type": "code",
   "execution_count": null,
   "id": "b4f7b7c3-4eac-4837-bb18-2f5ad505f4ba",
   "metadata": {},
   "outputs": [],
   "source": []
  }
 ],
 "metadata": {
  "kernelspec": {
   "display_name": "Python 3 (ipykernel)",
   "language": "python",
   "name": "python3"
  },
  "language_info": {
   "codemirror_mode": {
    "name": "ipython",
    "version": 3
   },
   "file_extension": ".py",
   "mimetype": "text/x-python",
   "name": "python",
   "nbconvert_exporter": "python",
   "pygments_lexer": "ipython3",
   "version": "3.12.7"
  }
 },
 "nbformat": 4,
 "nbformat_minor": 5
}
