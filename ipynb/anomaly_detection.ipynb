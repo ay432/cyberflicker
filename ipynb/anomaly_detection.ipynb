{
 "cells": [
  {
   "cell_type": "code",
   "execution_count": 2,
   "id": "e66c030d-c2c2-4796-8a9e-b5f3af97fa62",
   "metadata": {},
   "outputs": [],
   "source": [
    "import numpy as np\n",
    "rng = np.random.RandomState(42)\n",
    "nNormal = 2000\n",
    "nAnomalous = 200\n",
    "X_normal = np.r_[0.5 * rng.rand(int(nNormal/2), 2), 0.5 * rng.rand(int(nNormal/2), 2)]\n",
    "y_normal = nNormal * [0]\n",
    "X_anomalous = rng.uniform(low=-5, high=5, size=(nAnomalous, 2))\n",
    "y_anomalous = nAnomalous*[1]"
   ]
  },
  {
   "cell_type": "code",
   "execution_count": null,
   "id": "4f1641a0-2c05-4392-ac3f-967e5c035246",
   "metadata": {},
   "outputs": [],
   "source": []
  }
 ],
 "metadata": {
  "kernelspec": {
   "display_name": "Python 3 (ipykernel)",
   "language": "python",
   "name": "python3"
  },
  "language_info": {
   "codemirror_mode": {
    "name": "ipython",
    "version": 3
   },
   "file_extension": ".py",
   "mimetype": "text/x-python",
   "name": "python",
   "nbconvert_exporter": "python",
   "pygments_lexer": "ipython3",
   "version": "3.12.7"
  }
 },
 "nbformat": 4,
 "nbformat_minor": 5
}
